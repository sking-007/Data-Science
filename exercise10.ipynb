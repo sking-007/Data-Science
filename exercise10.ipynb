{
 "cells": [
  {
   "cell_type": "markdown",
   "metadata": {},
   "source": [
    "1. Name 3 models of fairness, explain them \n",
    "briefly. When should which models be used?  \n",
    "\n",
    "- Demographic Parity: We are conscious of historical biases of our data\n",
    "We have a plan in place to support the unprivileged group and to prevent the\n",
    "reinforcement of historical biases\n",
    "- Equal Opportunity: Introducing False Positives are not costly to the user nor the company \n",
    "The target variable is not considered subjective\n",
    "- Equalised Odds: The target variable is not considered subjective\n",
    "There remains a profit for the company\n"
   ]
  },
  {
   "cell_type": "code",
   "execution_count": 28,
   "metadata": {},
   "outputs": [],
   "source": [
    "from matplotlib import pyplot as plt\n",
    "import pandas as pd\n",
    "import numpy as np\n",
    "import seaborn as sns"
   ]
  },
  {
   "cell_type": "markdown",
   "metadata": {},
   "source": [
    "3. Read data creditworthiness.csv\n",
    "Define ‚IS_DEFAULT‘ as target\n",
    "Split the data into training and test data\n",
    "Bias Mitigation"
   ]
  },
  {
   "cell_type": "code",
   "execution_count": 29,
   "metadata": {},
   "outputs": [],
   "source": [
    "data = pd.read_csv(filepath_or_buffer=\"./creditworthiness.csv\")\n",
    "# data = data[data[\"_TREATMENT\"] >= 1] # removing control group and not part of experiment"
   ]
  },
  {
   "cell_type": "code",
   "execution_count": 30,
   "metadata": {},
   "outputs": [
    {
     "name": "stdout",
     "output_type": "stream",
     "text": [
      "<class 'pandas.core.frame.DataFrame'>\n",
      "RangeIndex: 30000 entries, 0 to 29999\n",
      "Data columns (total 32 columns):\n",
      " #   Column            Non-Null Count  Dtype  \n",
      "---  ------            --------------  -----  \n",
      " 0   ID                30000 non-null  int64  \n",
      " 1   CC_LIMIT_CAT      30000 non-null  int64  \n",
      " 2   EDUCATION         30000 non-null  int64  \n",
      " 3   MARITAL_STATUS    30000 non-null  int64  \n",
      " 4   GENDER            30000 non-null  int64  \n",
      " 5   AGE_GROUP         30000 non-null  int64  \n",
      " 6   pay_status_1      30000 non-null  int64  \n",
      " 7   pay_status_2      30000 non-null  int64  \n",
      " 8   pay_status_3      30000 non-null  int64  \n",
      " 9   pay_status_4      30000 non-null  int64  \n",
      " 10  pay_status_5      30000 non-null  int64  \n",
      " 11  pay_status_6      30000 non-null  int64  \n",
      " 12  paid_pct_1        30000 non-null  float64\n",
      " 13  paid_pct_2        30000 non-null  float64\n",
      " 14  paid_pct_3        30000 non-null  float64\n",
      " 15  paid_pct_4        30000 non-null  float64\n",
      " 16  paid_pct_5        30000 non-null  float64\n",
      " 17  paid_pct_6        30000 non-null  float64\n",
      " 18  bill1_over_limit  30000 non-null  float64\n",
      " 19  IS_DEFAULT        30000 non-null  int64  \n",
      " 20  _AGE              30000 non-null  int64  \n",
      " 21  _spend            30000 non-null  int64  \n",
      " 22  _tpm              30000 non-null  int64  \n",
      " 23  _ppm              30000 non-null  int64  \n",
      " 24  _RETAIL           30000 non-null  int64  \n",
      " 25  _URBAN            30000 non-null  int64  \n",
      " 26  _RURAL            30000 non-null  int64  \n",
      " 27  _PREMIUM          30000 non-null  int64  \n",
      " 28  _TREATMENT        30000 non-null  int64  \n",
      " 29  _LTV              30000 non-null  float64\n",
      " 30  _CC_LIMIT         30000 non-null  int64  \n",
      " 31  _risk_score       30000 non-null  float64\n",
      "dtypes: float64(9), int64(23)\n",
      "memory usage: 7.3 MB\n"
     ]
    }
   ],
   "source": [
    "data.info()"
   ]
  },
  {
   "cell_type": "code",
   "execution_count": 31,
   "metadata": {},
   "outputs": [],
   "source": [
    "from sklearn.model_selection import train_test_split\n",
    "\n",
    "y = data[\"IS_DEFAULT\"]\n",
    "X = data.drop([\"ID\", \"IS_DEFAULT\"], axis=1)\n",
    "rand = 9\n",
    "np.random.seed(rand)\n",
    "X_train, X_test, y_train, y_test = train_test_split(X, y, test_size=0.2, shuffle=False)"
   ]
  },
  {
   "cell_type": "markdown",
   "metadata": {},
   "source": [
    "4. How many women and how many men repay \n",
    "the loan late?  \n",
    "Plot the confusion matrix"
   ]
  },
  {
   "cell_type": "code",
   "execution_count": 32,
   "metadata": {},
   "outputs": [
    {
     "data": {
      "text/plain": [
       "GENDER\n",
       "2    3763\n",
       "1    2873\n",
       "Name: count, dtype: int64"
      ]
     },
     "execution_count": 32,
     "metadata": {},
     "output_type": "execute_result"
    }
   ],
   "source": [
    "data[data[\"IS_DEFAULT\"]==1].GENDER.value_counts()# 1 is male, 2 is female"
   ]
  },
  {
   "cell_type": "code",
   "execution_count": 33,
   "metadata": {},
   "outputs": [
    {
     "data": {
      "text/plain": [
       "<sklearn.metrics._plot.confusion_matrix.ConfusionMatrixDisplay at 0x737e9b9cd160>"
      ]
     },
     "execution_count": 33,
     "metadata": {},
     "output_type": "execute_result"
    },
    {
     "data": {
      "image/png": "[encoded data removed]",
      "text/plain": [
       "<Figure size 640x480 with 2 Axes>"
      ]
     },
     "metadata": {},
     "output_type": "display_data"
    }
   ],
   "source": [
    "from sklearn.metrics import confusion_matrix, ConfusionMatrixDisplay\n",
    "\n",
    "\n",
    "cfm = confusion_matrix(data.GENDER==2,data[\"IS_DEFAULT\"])\n",
    "ConfusionMatrixDisplay(cfm).plot()"
   ]
  },
  {
   "cell_type": "markdown",
   "metadata": {},
   "source": [
    "5. Define as proteced group ‚GENDER‘\n",
    "6. Define privileged and unprivileged groups"
   ]
  },
  {
   "cell_type": "code",
   "execution_count": 34,
   "metadata": {},
   "outputs": [],
   "source": [
    "from aif360.datasets import BinaryLabelDataset\n",
    "from aif360.metrics import BinaryLabelDatasetMetric\n",
    "\n",
    "train_ds = BinaryLabelDataset(\n",
    "    df=data.loc[X_train.index.values].drop([\"ID\"], axis=1),\n",
    "    label_names=[\"IS_DEFAULT\"],\n",
    "    protected_attribute_names=[\"AGE_GROUP\", \"GENDER\"],\n",
    "    favorable_label=0,\n",
    "    unfavorable_label=1,\n",
    ")\n",
    "test_ds = BinaryLabelDataset(\n",
    "    df=data.loc[X_test.index.values].drop([\"ID\"], axis=1),\n",
    "    label_names=[\"IS_DEFAULT\"],\n",
    "    protected_attribute_names=[\"AGE_GROUP\", \"GENDER\"],\n",
    "    favorable_label=0,\n",
    "    unfavorable_label=1,\n",
    ")\n",
    "unprivileged_groups=[{'GENDER': 2}]\n",
    "privileged_groups=[{'GENDER': 1}]\n",
    "metrics_train_ds = BinaryLabelDatasetMetric(train_ds,\\\n",
    "unprivileged_groups=unprivileged_groups,\\\n",
    "privileged_groups=privileged_groups)\n",
    "metrics_test_ds = BinaryLabelDatasetMetric(test_ds,\\\n",
    "unprivileged_groups=unprivileged_groups,\\\n",
    "privileged_groups=privileged_groups)"
   ]
  },
  {
   "cell_type": "code",
   "execution_count": 35,
   "metadata": {},
   "outputs": [
    {
     "name": "stdout",
     "output_type": "stream",
     "text": [
      "Difference in mean outcomes TEST between unprivileged and privileged groups =  0.04012115333925115\n",
      "Statistical Parity Difference (SPD):\t\t\t0.0340\n",
      "Disparate Impact (DI):\t\t\t\t\t1.0451\n",
      "Smoothed Empirical Differential Fairness (SEDF):\t0.3314\n"
     ]
    }
   ],
   "source": [
    "print(\n",
    "    \"Difference in mean outcomes TEST between unprivileged and privileged groups = \",\n",
    "    metrics_test_ds.mean_difference(),\n",
    ")\n",
    "print(\n",
    "    \"Statistical Parity Difference (SPD):\\t\\t\\t%.4f\"\n",
    "    % metrics_train_ds.statistical_parity_difference()\n",
    ")\n",
    "print(\"Disparate Impact (DI):\\t\\t\\t\\t\\t%.4f\" % metrics_train_ds.disparate_impact())\n",
    "print(\n",
    "    \"Smoothed Empirical Differential Fairness (SEDF):\\t%.4f\"\n",
    "    % metrics_train_ds.smoothed_empirical_differential_fairness()\n",
    ")"
   ]
  },
  {
   "cell_type": "code",
   "execution_count": 36,
   "metadata": {},
   "outputs": [],
   "source": [
    "from sklearn.metrics import accuracy_score\n",
    "import tensorflow as tf\n",
    "from catboost import CatBoostClassifier\n",
    "\n",
    "rand = 9\n",
    "np.random.seed(rand)\n",
    "tf.random.set_seed(rand)\n",
    "orig_plt_params = plt.rcParams\n",
    "sns.set()\n",
    "cb_mdl = CatBoostClassifier(iterations=500, learning_rate=0.5, depth=8)\n",
    "fitted_cb_mdl = cb_mdl.fit(X_train, y_train, verbose=False)\n",
    "y_test_cb_pred = fitted_cb_mdl.predict(X_test)\n",
    "cf_matrix = confusion_matrix(y_test, y_test_cb_pred)\n",
    "acc = accuracy_score(y_test,y_test_cb_pred)\n"
   ]
  },
  {
   "cell_type": "code",
   "execution_count": 37,
   "metadata": {},
   "outputs": [
    {
     "name": "stdout",
     "output_type": "stream",
     "text": [
      "CatBoostClassifier without bias mitigation\n",
      "\n",
      "accuracy =  0.8043333333333333\n"
     ]
    },
    {
     "data": {
      "text/plain": [
       "<Figure size 640x480 with 0 Axes>"
      ]
     },
     "metadata": {},
     "output_type": "display_data"
    },
    {
     "data": {
      "image/png": "[encoded data removed]",
      "text/plain": [
       "<Figure size 640x480 with 2 Axes>"
      ]
     },
     "metadata": {},
     "output_type": "display_data"
    }
   ],
   "source": [
    "plt.figure()\n",
    "print(\"CatBoostClassifier without bias mitigation\\n\")\n",
    "print(\"accuracy = \", acc)\n",
    "ConfusionMatrixDisplay(cf_matrix).plot()\n",
    "plt.show()"
   ]
  },
  {
   "cell_type": "code",
   "execution_count": 38,
   "metadata": {},
   "outputs": [],
   "source": [
    "test_pred_ds = test_ds.copy(deepcopy=True)\n",
    "cb_mdl = CatBoostClassifier(\n",
    "    iterations=500, learning_rate=0.5, depth=8, class_weights=[0.9, 0.1]\n",
    ")\n",
    "fitted_cb_mdl = cb_mdl.fit(X_train, y_train, verbose=False)\n",
    "y_test_cb_pred = fitted_cb_mdl.predict(X_test)\n",
    "cf_matrix = confusion_matrix(y_test, y_test_cb_pred)\n",
    "acc = accuracy_score(y_test,y_test_cb_pred)\n"
   ]
  },
  {
   "cell_type": "code",
   "execution_count": 39,
   "metadata": {},
   "outputs": [
    {
     "name": "stdout",
     "output_type": "stream",
     "text": [
      "POSW CatBoostClassifier\n",
      "\n",
      "accuracy =  0.814\n"
     ]
    },
    {
     "data": {
      "text/plain": [
       "<Figure size 640x480 with 0 Axes>"
      ]
     },
     "metadata": {},
     "output_type": "display_data"
    },
    {
     "data": {
      "image/png": "[encoded data removed]",
      "text/plain": [
       "<Figure size 640x480 with 2 Axes>"
      ]
     },
     "metadata": {},
     "output_type": "display_data"
    }
   ],
   "source": [
    "plt.figure()\n",
    "print(\"POSW CatBoostClassifier\\n\")\n",
    "print(\"accuracy = \", acc)\n",
    "ConfusionMatrixDisplay(cf_matrix).plot()\n",
    "plt.show()"
   ]
  },
  {
   "cell_type": "code",
   "execution_count": 40,
   "metadata": {},
   "outputs": [],
   "source": [
    "from aif360.algorithms.preprocessing import Reweighing\n",
    "\n",
    "reweigher = Reweighing(\n",
    "    unprivileged_groups=unprivileged_groups, privileged_groups=privileged_groups\n",
    ")\n",
    "reweigher.fit(train_ds)\n",
    "train_rw_ds = reweigher.transform(train_ds)"
   ]
  },
  {
   "cell_type": "code",
   "execution_count": 41,
   "metadata": {},
   "outputs": [
    {
     "data": {
      "text/plain": [
       "               instance weights     features                            \n",
       "                                                                        \n",
       "                                CC_LIMIT_CAT EDUCATION MARITAL_STATUS   \n",
       "instance names                                                          \n",
       "0                      1.059913          0.0       2.0            2.0  \\\n",
       "1                      1.059913          3.0       2.0            1.0   \n",
       "2                      0.983968          2.0       2.0            1.0   \n",
       "3                      0.983968          1.0       2.0            2.0   \n",
       "4                      1.028315          1.0       2.0            2.0   \n",
       "...                         ...          ...       ...            ...   \n",
       "23995                  1.028315          2.0       2.0            2.0   \n",
       "23996                  1.028315          0.0       2.0            2.0   \n",
       "23997                  1.028315          0.0       2.0            1.0   \n",
       "23998                  1.028315          0.0       0.0            1.0   \n",
       "23999                  0.912802          3.0       3.0            1.0   \n",
       "\n",
       "                                                                         \n",
       "               protected attribute                                       \n",
       "                            GENDER AGE_GROUP pay_status_1 pay_status_2   \n",
       "instance names                                                           \n",
       "0                              2.0       0.0          2.0          2.0  \\\n",
       "1                              2.0       1.0         -1.0          2.0   \n",
       "2                              2.0       1.0          0.0          0.0   \n",
       "3                              2.0       1.0          0.0          0.0   \n",
       "4                              1.0       0.0         -1.0          0.0   \n",
       "...                            ...       ...          ...          ...   \n",
       "23995                          1.0       0.0          1.0          2.0   \n",
       "23996                          1.0       0.0          0.0          0.0   \n",
       "23997                          1.0       1.0          0.0          0.0   \n",
       "23998                          1.0       1.0          0.0          0.0   \n",
       "23999                          1.0       1.0          0.0         -1.0   \n",
       "\n",
       "                                          ...                              \n",
       "                                          ...                              \n",
       "               pay_status_3 pay_status_4  ... _ppm _RETAIL _URBAN _RURAL   \n",
       "instance names                            ...                              \n",
       "0                      -1.0         -1.0  ... -1.0    -1.0   -1.0   -1.0  \\\n",
       "1                       0.0          0.0  ... -1.0    -1.0   -1.0   -1.0   \n",
       "2                       0.0          0.0  ... -1.0    -1.0   -1.0   -1.0   \n",
       "3                       0.0          0.0  ... -1.0    -1.0   -1.0   -1.0   \n",
       "4                      -1.0          0.0  ... -1.0    -1.0   -1.0   -1.0   \n",
       "...                     ...          ...  ...  ...     ...    ...    ...   \n",
       "23995                   2.0          0.0  ... -1.0    -1.0   -1.0   -1.0   \n",
       "23996                   0.0          0.0  ... -1.0    -1.0   -1.0   -1.0   \n",
       "23997                   0.0          0.0  ... -1.0    -1.0   -1.0   -1.0   \n",
       "23998                   0.0          0.0  ... -1.0    -1.0   -1.0   -1.0   \n",
       "23999                   0.0          0.0  ... -1.0    -1.0   -1.0   -1.0   \n",
       "\n",
       "                                                              labels  \n",
       "                                                                      \n",
       "               _PREMIUM _TREATMENT _LTV _CC_LIMIT _risk_score         \n",
       "instance names                                                        \n",
       "0                  -1.0       -1.0 -1.0      -1.0    0.000000    1.0  \n",
       "1                  -1.0       -1.0 -1.0      -1.0    0.028792    1.0  \n",
       "2                  -1.0       -1.0 -1.0      -1.0    0.166089    0.0  \n",
       "3                  -1.0       -1.0 -1.0      -1.0    0.579180    0.0  \n",
       "4                  -1.0       -1.0 -1.0      -1.0    0.382920    0.0  \n",
       "...                 ...        ...  ...       ...         ...    ...  \n",
       "23995              -1.0       -1.0 -1.0      -1.0    0.791200    0.0  \n",
       "23996              -1.0       -1.0 -1.0      -1.0    0.855950    0.0  \n",
       "23997              -1.0       -1.0 -1.0      -1.0    1.660800    0.0  \n",
       "23998              -1.0       -1.0 -1.0      -1.0    0.000000    0.0  \n",
       "23999              -1.0       -1.0 -1.0      -1.0    0.003890    1.0  \n",
       "\n",
       "[24000 rows x 32 columns]"
      ]
     },
     "execution_count": 41,
     "metadata": {},
     "output_type": "execute_result"
    }
   ],
   "source": [
    "train_rw_ds"
   ]
  },
  {
   "cell_type": "code",
   "execution_count": 42,
   "metadata": {},
   "outputs": [
    {
     "name": "stdout",
     "output_type": "stream",
     "text": [
      "Reweigher (REW) Statistical Parity Difference (SPD):\t\t\t0.0000\n",
      "REW Disparate Impact (DI):\t\t\t\t\t1.0000\n",
      "REW Smoothed Empirical Differential Fairness (SEDF):\t0.2423\n"
     ]
    }
   ],
   "source": [
    "metrics_train_rw_ds = BinaryLabelDatasetMetric(\n",
    "    train_rw_ds,\n",
    "    unprivileged_groups=unprivileged_groups,\n",
    "    privileged_groups=privileged_groups,\n",
    ")\n",
    "print(\n",
    "    \"Reweigher (REW) Statistical Parity Difference (SPD):\\t\\t\\t%.4f\"\n",
    "    % metrics_train_rw_ds.statistical_parity_difference()\n",
    ")\n",
    "print(\n",
    "    \"REW Disparate Impact (DI):\\t\\t\\t\\t\\t%.4f\" % metrics_train_rw_ds.disparate_impact()\n",
    ")\n",
    "print(\n",
    "    \"REW Smoothed Empirical Differential Fairness (SEDF):\\t%.4f\"\n",
    "    % metrics_train_rw_ds.smoothed_empirical_differential_fairness()\n",
    ")\n"
   ]
  },
  {
   "cell_type": "code",
   "execution_count": 43,
   "metadata": {},
   "outputs": [
    {
     "name": "stdout",
     "output_type": "stream",
     "text": [
      "reweighted CatBoostClassifier\n",
      "\n",
      "accuracy =  0.8053333333333333\n"
     ]
    },
    {
     "data": {
      "text/plain": [
       "<Figure size 640x480 with 0 Axes>"
      ]
     },
     "metadata": {},
     "output_type": "display_data"
    },
    {
     "data": {
      "image/png": "[encoded data removed]",
      "text/plain": [
       "<Figure size 640x480 with 2 Axes>"
      ]
     },
     "metadata": {},
     "output_type": "display_data"
    }
   ],
   "source": [
    "cb_mdl = CatBoostClassifier(iterations=500, learning_rate=0.5, depth=8)\n",
    "fitted_cb_mdl = cb_mdl.fit(\n",
    "    X_train, y_train, verbose=False, sample_weight=train_rw_ds.instance_weights\n",
    ")\n",
    "y_test_cb_pred = fitted_cb_mdl.predict(X_test)\n",
    "cf_matrix = confusion_matrix(y_test, y_test_cb_pred)\n",
    "acc = accuracy_score(y_test,y_test_cb_pred)\n",
    "plt.figure()\n",
    "print(\"reweighted CatBoostClassifier\\n\")\n",
    "print(\"accuracy = \", acc)\n",
    "ConfusionMatrixDisplay(cf_matrix).plot()\n",
    "plt.show()"
   ]
  },
  {
   "cell_type": "code",
   "execution_count": 45,
   "metadata": {},
   "outputs": [
    {
     "name": "stderr",
     "output_type": "stream",
     "text": [
      "Traceback (most recent call last):\n",
      "  File \"/home/eon/miniconda3/envs/bio/lib/python3.8/site-packages/aif360/algorithms/inprocessing/kamfadm-2012ecmlpkdd/train_pr.py\", line 319, in <module>\n",
      "    main(opt)\n",
      "  File \"/home/eon/miniconda3/envs/bio/lib/python3.8/site-packages/aif360/algorithms/inprocessing/kamfadm-2012ecmlpkdd/train_pr.py\", line 166, in main\n",
      "    clr = train(X, y, ns, opt)\n",
      "  File \"/home/eon/miniconda3/envs/bio/lib/python3.8/site-packages/aif360/algorithms/inprocessing/kamfadm-2012ecmlpkdd/train_pr.py\", line 128, in train\n",
      "    clr.fit(X, y, ns, itype=opt.itype)\n",
      "  File \"/home/eon/miniconda3/envs/bio/lib/python3.8/site-packages/aif360/algorithms/inprocessing/kamfadm-2012ecmlpkdd/fadm/lr/pr.py\", line 279, in fit\n",
      "    self.c_s_ = np.array([np.sum(s == si).astype(np.float)\n",
      "  File \"/home/eon/miniconda3/envs/bio/lib/python3.8/site-packages/aif360/algorithms/inprocessing/kamfadm-2012ecmlpkdd/fadm/lr/pr.py\", line 279, in <listcomp>\n",
      "    self.c_s_ = np.array([np.sum(s == si).astype(np.float)\n",
      "  File \"/home/eon/miniconda3/envs/bio/lib/python3.8/site-packages/numpy/__init__.py\", line 305, in __getattr__\n",
      "    raise AttributeError(__former_attrs__[attr])\n",
      "AttributeError: module 'numpy' has no attribute 'float'.\n",
      "`np.float` was a deprecated alias for the builtin `float`. To avoid this error in existing code, use `float` by itself. Doing this will not modify any behavior and is safe. If you specifically wanted the numpy scalar type, use `np.float64` here.\n",
      "The aliases was originally deprecated in NumPy 1.20; for more details and guidance see the original release note at:\n",
      "    https://numpy.org/devdocs/release/1.20.0-notes.html#deprecations\n",
      "Traceback (most recent call last):\n",
      "  File \"/home/eon/miniconda3/envs/bio/lib/python3.8/site-packages/aif360/algorithms/inprocessing/kamfadm-2012ecmlpkdd/predict_lr.py\", line 278, in <module>\n",
      "    main(opt)\n",
      "  File \"/home/eon/miniconda3/envs/bio/lib/python3.8/site-packages/aif360/algorithms/inprocessing/kamfadm-2012ecmlpkdd/predict_lr.py\", line 110, in main\n",
      "    clr = pickle.load(opt.model)\n",
      "EOFError: Ran out of input\n",
      "/home/eon/miniconda3/envs/bio/lib/python3.8/site-packages/aif360/algorithms/inprocessing/prejudice_remover.py:208: UserWarning: loadtxt: input contained no data: \"/tmp/tmpmtf47khe\"\n",
      "  m = np.loadtxt(output_name)\n"
     ]
    },
    {
     "ename": "IndexError",
     "evalue": "too many indices for array: array is 1-dimensional, but 2 were indexed",
     "output_type": "error",
     "traceback": [
      "\u001b[0;31m---------------------------------------------------------------------------\u001b[0m",
      "\u001b[0;31mIndexError\u001b[0m                                Traceback (most recent call last)",
      "Input \u001b[0;32mIn [45]\u001b[0m, in \u001b[0;36m<cell line: 7>\u001b[0;34m()\u001b[0m\n\u001b[1;32m      3\u001b[0m log_pr_mdl \u001b[38;5;241m=\u001b[39m PrejudiceRemover(\n\u001b[1;32m      4\u001b[0m     eta\u001b[38;5;241m=\u001b[39m\u001b[38;5;241m1.0\u001b[39m, sensitive_attr\u001b[38;5;241m=\u001b[39m\u001b[38;5;124m\"\u001b[39m\u001b[38;5;124mAGE_GROUP\u001b[39m\u001b[38;5;124m\"\u001b[39m, class_attr\u001b[38;5;241m=\u001b[39m\u001b[38;5;124m\"\u001b[39m\u001b[38;5;124mIS_DEFAULT\u001b[39m\u001b[38;5;124m\"\u001b[39m\n\u001b[1;32m      5\u001b[0m )\n\u001b[1;32m      6\u001b[0m log_pr_mdl\u001b[38;5;241m.\u001b[39mfit(train_ds)\n\u001b[0;32m----> 7\u001b[0m train_pred_pr_ds \u001b[38;5;241m=\u001b[39m \u001b[43mlog_pr_mdl\u001b[49m\u001b[38;5;241;43m.\u001b[39;49m\u001b[43mpredict\u001b[49m\u001b[43m(\u001b[49m\u001b[43mtrain_ds\u001b[49m\u001b[43m)\u001b[49m\n\u001b[1;32m      8\u001b[0m test_pred_pr_ds \u001b[38;5;241m=\u001b[39m log_pr_mdl\u001b[38;5;241m.\u001b[39mpredict(test_ds)\n",
      "File \u001b[0;32m~/miniconda3/envs/bio/lib/python3.8/site-packages/aif360/algorithms/transformer.py:27\u001b[0m, in \u001b[0;36maddmetadata.<locals>.wrapper\u001b[0;34m(self, *args, **kwargs)\u001b[0m\n\u001b[1;32m     25\u001b[0m \u001b[38;5;129m@wraps\u001b[39m(func)\n\u001b[1;32m     26\u001b[0m \u001b[38;5;28;01mdef\u001b[39;00m \u001b[38;5;21mwrapper\u001b[39m(\u001b[38;5;28mself\u001b[39m, \u001b[38;5;241m*\u001b[39margs, \u001b[38;5;241m*\u001b[39m\u001b[38;5;241m*\u001b[39mkwargs):\n\u001b[0;32m---> 27\u001b[0m     new_dataset \u001b[38;5;241m=\u001b[39m \u001b[43mfunc\u001b[49m\u001b[43m(\u001b[49m\u001b[38;5;28;43mself\u001b[39;49m\u001b[43m,\u001b[49m\u001b[43m \u001b[49m\u001b[38;5;241;43m*\u001b[39;49m\u001b[43margs\u001b[49m\u001b[43m,\u001b[49m\u001b[43m \u001b[49m\u001b[38;5;241;43m*\u001b[39;49m\u001b[38;5;241;43m*\u001b[39;49m\u001b[43mkwargs\u001b[49m\u001b[43m)\u001b[49m\n\u001b[1;32m     28\u001b[0m     \u001b[38;5;28;01mif\u001b[39;00m \u001b[38;5;28misinstance\u001b[39m(new_dataset, Dataset):\n\u001b[1;32m     29\u001b[0m         new_dataset\u001b[38;5;241m.\u001b[39mmetadata \u001b[38;5;241m=\u001b[39m new_dataset\u001b[38;5;241m.\u001b[39mmetadata\u001b[38;5;241m.\u001b[39mcopy()\n",
      "File \u001b[0;32m~/miniconda3/envs/bio/lib/python3.8/site-packages/aif360/algorithms/inprocessing/prejudice_remover.py:218\u001b[0m, in \u001b[0;36mPrejudiceRemover.predict\u001b[0;34m(self, dataset)\u001b[0m\n\u001b[1;32m    211\u001b[0m pred_dataset \u001b[38;5;241m=\u001b[39m dataset\u001b[38;5;241m.\u001b[39mcopy()\n\u001b[1;32m    212\u001b[0m \u001b[38;5;66;03m# Columns of Outputs: (as per Kamishima implementation predict_lr.py)\u001b[39;00m\n\u001b[1;32m    213\u001b[0m \u001b[38;5;66;03m# 0. true sample class number\u001b[39;00m\n\u001b[1;32m    214\u001b[0m \u001b[38;5;66;03m# 1. predicted class number\u001b[39;00m\n\u001b[1;32m    215\u001b[0m \u001b[38;5;66;03m# 2. sensitive feature\u001b[39;00m\n\u001b[1;32m    216\u001b[0m \u001b[38;5;66;03m# 3. class 0 probability\u001b[39;00m\n\u001b[1;32m    217\u001b[0m \u001b[38;5;66;03m# 4. class 1 probability\u001b[39;00m\n\u001b[0;32m--> 218\u001b[0m pred_dataset\u001b[38;5;241m.\u001b[39mlabels \u001b[38;5;241m=\u001b[39m \u001b[43mm\u001b[49m\u001b[43m[\u001b[49m\u001b[43m:\u001b[49m\u001b[43m,\u001b[49m\u001b[43m \u001b[49m\u001b[43m[\u001b[49m\u001b[38;5;241;43m1\u001b[39;49m\u001b[43m]\u001b[49m\u001b[43m]\u001b[49m\n\u001b[1;32m    219\u001b[0m pred_dataset\u001b[38;5;241m.\u001b[39mscores \u001b[38;5;241m=\u001b[39m m[:, [\u001b[38;5;241m4\u001b[39m]]\n\u001b[1;32m    221\u001b[0m \u001b[38;5;28;01mreturn\u001b[39;00m pred_dataset\n",
      "\u001b[0;31mIndexError\u001b[0m: too many indices for array: array is 1-dimensional, but 2 were indexed"
     ]
    }
   ],
   "source": [
    "from aif360.algorithms.inprocessing import PrejudiceRemover\n",
    "\n",
    "log_pr_mdl = PrejudiceRemover(\n",
    "    eta=1.0, sensitive_attr=\"AGE_GROUP\", class_attr=\"IS_DEFAULT\"\n",
    ")\n",
    "log_pr_mdl.fit(train_ds)\n",
    "train_pred_pr_ds = log_pr_mdl.predict(train_ds)\n",
    "test_pred_pr_ds = log_pr_mdl.predict(test_ds)"
   ]
  },
  {
   "cell_type": "code",
   "execution_count": 46,
   "metadata": {},
   "outputs": [
    {
     "ename": "TypeError",
     "evalue": "No loop matching the specified signature and casting was found for ufunc logical_and",
     "output_type": "error",
     "traceback": [
      "\u001b[0;31m---------------------------------------------------------------------------\u001b[0m",
      "\u001b[0;31mTypeError\u001b[0m                                 Traceback (most recent call last)",
      "Input \u001b[0;32mIn [46]\u001b[0m, in \u001b[0;36m<cell line: 28>\u001b[0;34m()\u001b[0m\n\u001b[1;32m     16\u001b[0m y_test_cb_pred \u001b[38;5;241m=\u001b[39m BinaryLabelDataset(\n\u001b[1;32m     17\u001b[0m     df\u001b[38;5;241m=\u001b[39mX_posw,\n\u001b[1;32m     18\u001b[0m     label_names\u001b[38;5;241m=\u001b[39m[\u001b[38;5;124m\"\u001b[39m\u001b[38;5;124mIS_DEFAULT\u001b[39m\u001b[38;5;124m\"\u001b[39m],\n\u001b[0;32m   (...)\u001b[0m\n\u001b[1;32m     21\u001b[0m     unfavorable_label\u001b[38;5;241m=\u001b[39m\u001b[38;5;241m1\u001b[39m,\n\u001b[1;32m     22\u001b[0m )\n\u001b[1;32m     23\u001b[0m epp \u001b[38;5;241m=\u001b[39m EqOddsPostprocessing(\n\u001b[1;32m     24\u001b[0m     privileged_groups\u001b[38;5;241m=\u001b[39mprivileged_groups,\n\u001b[1;32m     25\u001b[0m     unprivileged_groups\u001b[38;5;241m=\u001b[39munprivileged_groups,\n\u001b[1;32m     26\u001b[0m     seed\u001b[38;5;241m=\u001b[39mrand,\n\u001b[1;32m     27\u001b[0m )\n\u001b[0;32m---> 28\u001b[0m epp \u001b[38;5;241m=\u001b[39m \u001b[43mepp\u001b[49m\u001b[38;5;241;43m.\u001b[39;49m\u001b[43mfit\u001b[49m\u001b[43m(\u001b[49m\u001b[43mtest_ds\u001b[49m\u001b[43m,\u001b[49m\u001b[43m \u001b[49m\u001b[43my_test_cb_pred\u001b[49m\u001b[43m)\u001b[49m\n\u001b[1;32m     29\u001b[0m test_pred_epp_ds \u001b[38;5;241m=\u001b[39m epp\u001b[38;5;241m.\u001b[39mpredict(y_test_cb_pred)\n\u001b[1;32m     30\u001b[0m metrics_test_dir_ds \u001b[38;5;241m=\u001b[39m BinaryLabelDatasetMetric(\n\u001b[1;32m     31\u001b[0m     test_pred_epp_ds,\n\u001b[1;32m     32\u001b[0m     unprivileged_groups\u001b[38;5;241m=\u001b[39munprivileged_groups,\n\u001b[1;32m     33\u001b[0m     privileged_groups\u001b[38;5;241m=\u001b[39mprivileged_groups,\n\u001b[1;32m     34\u001b[0m )\n",
      "File \u001b[0;32m~/miniconda3/envs/bio/lib/python3.8/site-packages/aif360/algorithms/transformer.py:27\u001b[0m, in \u001b[0;36maddmetadata.<locals>.wrapper\u001b[0;34m(self, *args, **kwargs)\u001b[0m\n\u001b[1;32m     25\u001b[0m \u001b[38;5;129m@wraps\u001b[39m(func)\n\u001b[1;32m     26\u001b[0m \u001b[38;5;28;01mdef\u001b[39;00m \u001b[38;5;21mwrapper\u001b[39m(\u001b[38;5;28mself\u001b[39m, \u001b[38;5;241m*\u001b[39margs, \u001b[38;5;241m*\u001b[39m\u001b[38;5;241m*\u001b[39mkwargs):\n\u001b[0;32m---> 27\u001b[0m     new_dataset \u001b[38;5;241m=\u001b[39m \u001b[43mfunc\u001b[49m\u001b[43m(\u001b[49m\u001b[38;5;28;43mself\u001b[39;49m\u001b[43m,\u001b[49m\u001b[43m \u001b[49m\u001b[38;5;241;43m*\u001b[39;49m\u001b[43margs\u001b[49m\u001b[43m,\u001b[49m\u001b[43m \u001b[49m\u001b[38;5;241;43m*\u001b[39;49m\u001b[38;5;241;43m*\u001b[39;49m\u001b[43mkwargs\u001b[49m\u001b[43m)\u001b[49m\n\u001b[1;32m     28\u001b[0m     \u001b[38;5;28;01mif\u001b[39;00m \u001b[38;5;28misinstance\u001b[39m(new_dataset, Dataset):\n\u001b[1;32m     29\u001b[0m         new_dataset\u001b[38;5;241m.\u001b[39mmetadata \u001b[38;5;241m=\u001b[39m new_dataset\u001b[38;5;241m.\u001b[39mmetadata\u001b[38;5;241m.\u001b[39mcopy()\n",
      "File \u001b[0;32m~/miniconda3/envs/bio/lib/python3.8/site-packages/aif360/algorithms/postprocessing/eq_odds_postprocessing.py:144\u001b[0m, in \u001b[0;36mEqOddsPostprocessing.fit\u001b[0;34m(self, dataset_true, dataset_pred)\u001b[0m\n\u001b[1;32m    139\u001b[0m oflip \u001b[38;5;241m=\u001b[39m np\u001b[38;5;241m.\u001b[39mravel(\n\u001b[1;32m    140\u001b[0m     dataset_pred\u001b[38;5;241m.\u001b[39mlabels[cond_vec_unpriv] \u001b[38;5;241m==\u001b[39m dataset_pred\u001b[38;5;241m.\u001b[39munfavorable_label)\n\u001b[1;32m    142\u001b[0m y_true \u001b[38;5;241m=\u001b[39m dataset_true\u001b[38;5;241m.\u001b[39mlabels\u001b[38;5;241m.\u001b[39mravel()\n\u001b[0;32m--> 144\u001b[0m sm_tn \u001b[38;5;241m=\u001b[39m \u001b[43mnp\u001b[49m\u001b[38;5;241;43m.\u001b[39;49m\u001b[43mlogical_and\u001b[49m\u001b[43m(\u001b[49m\u001b[43msflip\u001b[49m\u001b[43m,\u001b[49m\n\u001b[1;32m    145\u001b[0m \u001b[43m    \u001b[49m\u001b[43my_true\u001b[49m\u001b[43m[\u001b[49m\u001b[43mcond_vec_priv\u001b[49m\u001b[43m]\u001b[49m\u001b[43m \u001b[49m\u001b[38;5;241;43m==\u001b[39;49m\u001b[43m \u001b[49m\u001b[43mdataset_true\u001b[49m\u001b[38;5;241;43m.\u001b[39;49m\u001b[43munfavorable_label\u001b[49m\u001b[43m,\u001b[49m\n\u001b[1;32m    146\u001b[0m \u001b[43m    \u001b[49m\u001b[43mdtype\u001b[49m\u001b[38;5;241;43m=\u001b[39;49m\u001b[43mnp\u001b[49m\u001b[38;5;241;43m.\u001b[39;49m\u001b[43mfloat64\u001b[49m\u001b[43m)\u001b[49m\n\u001b[1;32m    147\u001b[0m sm_fn \u001b[38;5;241m=\u001b[39m np\u001b[38;5;241m.\u001b[39mlogical_and(sflip,\n\u001b[1;32m    148\u001b[0m     y_true[cond_vec_priv] \u001b[38;5;241m==\u001b[39m dataset_true\u001b[38;5;241m.\u001b[39mfavorable_label,\n\u001b[1;32m    149\u001b[0m     dtype\u001b[38;5;241m=\u001b[39mnp\u001b[38;5;241m.\u001b[39mfloat64)\n\u001b[1;32m    150\u001b[0m sm_fp \u001b[38;5;241m=\u001b[39m np\u001b[38;5;241m.\u001b[39mlogical_and(sconst,\n\u001b[1;32m    151\u001b[0m     y_true[cond_vec_priv] \u001b[38;5;241m==\u001b[39m dataset_true\u001b[38;5;241m.\u001b[39munfavorable_label,\n\u001b[1;32m    152\u001b[0m     dtype\u001b[38;5;241m=\u001b[39mnp\u001b[38;5;241m.\u001b[39mfloat64)\n",
      "\u001b[0;31mTypeError\u001b[0m: No loop matching the specified signature and casting was found for ufunc logical_and"
     ]
    }
   ],
   "source": [
    "from catboost import CatBoostClassifier\n",
    "from aif360.algorithms.postprocessing import EqOddsPostprocessing\n",
    "\n",
    "cb_mdl = CatBoostClassifier(iterations=500, learning_rate=0.5, depth=8)\n",
    "fitted_cb_mdl = cb_mdl.fit(X_train, y_train, verbose=False)\n",
    "y_test_cb_pred = fitted_cb_mdl.predict(X_test)\n",
    "test_ds = BinaryLabelDataset(\n",
    "    df=X_test.join(y_test),\n",
    "    label_names=[\"IS_DEFAULT\"],\n",
    "    protected_attribute_names=[\"AGE_GROUP\", \"GENDER\"],\n",
    "    favorable_label=0,\n",
    "    unfavorable_label=1,\n",
    ")\n",
    "X_posw = X_test.copy()\n",
    "X_posw[\"IS_DEFAULT\"] = y_test_cb_pred\n",
    "y_test_cb_pred = BinaryLabelDataset(\n",
    "    df=X_posw,\n",
    "    label_names=[\"IS_DEFAULT\"],\n",
    "    protected_attribute_names=[\"AGE_GROUP\", \"GENDER\"],\n",
    "    favorable_label=0,\n",
    "    unfavorable_label=1,\n",
    ")\n",
    "epp = EqOddsPostprocessing(\n",
    "    privileged_groups=privileged_groups,\n",
    "    unprivileged_groups=unprivileged_groups,\n",
    "    seed=rand,\n",
    ")\n",
    "epp = epp.fit(test_ds, y_test_cb_pred)\n",
    "test_pred_epp_ds = epp.predict(y_test_cb_pred)\n",
    "metrics_test_dir_ds = BinaryLabelDatasetMetric(\n",
    "    test_pred_epp_ds,\n",
    "    unprivileged_groups=unprivileged_groups,\n",
    "    privileged_groups=privileged_groups,\n",
    ")\n",
    "print(\n",
    "    \"EPP Statistical Parity Difference (SPD):\\t\\t\\t%.4f\"\n",
    "    % metrics_test_dir_ds.statistical_parity_difference()\n",
    ")\n",
    "print(\n",
    "    \"EPP Disparate Impact (DI):\\t\\t\\t\\t\\t%.4f\" % metrics_test_dir_ds.disparate_impact()\n",
    ")\n",
    "print(\n",
    "    \"EPP Smoothed Empirical Differential Fairness (SEDF):\\t%.4f\"\n",
    "    % metrics_test_dir_ds.smoothed_empirical_differential_fairness()\n",
    ")\n",
    "print(\n",
    "    \"EPP Difference in mean outcomes TEST between unprivileged and privileged groups in percent\",\n",
    "    round(metrics_test_dir_ds.mean_difference() * 100, 2),\n",
    ")"
   ]
  }
 ],
 "metadata": {
  "kernelspec": {
   "display_name": "bio",
   "language": "python",
   "name": "python3"
  },
  "language_info": {
   "codemirror_mode": {
    "name": "ipython",
    "version": 3
   },
   "file_extension": ".py",
   "mimetype": "text/x-python",
   "name": "python",
   "nbconvert_exporter": "python",
   "pygments_lexer": "ipython3",
   "version": "3.8.16"
  }
 },
 "nbformat": 4,
 "nbformat_minor": 2
}
